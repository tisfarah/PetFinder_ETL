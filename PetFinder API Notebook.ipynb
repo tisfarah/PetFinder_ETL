{
 "cells": [
  {
   "cell_type": "markdown",
   "metadata": {},
   "source": [
    "### API Limits \n",
    "* Max 100 results per page, default is 20\n",
    "* Basic access is granted automatically after collecting a few details and will allow you to make up to 1,000 requests/day, with a rate limit of 50 requests/second. If you need more bandwidth, you can request more once you have your basic key.\n",
    "* Access tokens expire in 3600 seconds (1 hour)"
   ]
  },
  {
   "cell_type": "markdown",
   "metadata": {},
   "source": [
    "### Useful Links\n",
    "* https://curl.trillworks.com/\n",
    "* https://www.petfinder.com/developers/v2/docs/    \n",
    "* https://github.com/aschleg/petpy\n",
    "* https://stackoverflow.com/questions/17777845/python-requests-arguments-dealing-with-api-pagination\n",
    "* https://petpy.readthedocs.io/en/latest/api.html\n",
    "\n",
    "#### Display images \n",
    "\n",
    "* https://pillow.readthedocs.io/en/stable/\n",
    "* https://stackoverflow.com/questions/11854847/how-can-i-display-an-image-from-a-file-in-jupyter-notebook\n",
    "\n",
    "#### Google Places API\n",
    "* https://developers.google.com/places/web-service/supported_types"
   ]
  },
  {
   "cell_type": "markdown",
   "metadata": {},
   "source": [
    "### Connecting to PetFinder API"
   ]
  },
  {
   "cell_type": "code",
   "execution_count": 81,
   "metadata": {},
   "outputs": [
    {
     "name": "stdout",
     "output_type": "stream",
     "text": [
      "2019-04-04 19:03:46.015975\n"
     ]
    }
   ],
   "source": [
    "import requests\n",
    "from config import CLIENTID\n",
    "from config import CLIENTSECRET\n",
    "import petpy as Petfinder\n",
    "from datetime import datetime\n",
    "import pandas as pd\n",
    "from pandas.io.json import json_normalize\n",
    "import matplotlib.pyplot as plt \n",
    "from IPython.display import Image, display, Markdown\n",
    "import json\n",
    "\n",
    "credentials = {\n",
    "  'grant_type': 'client_credentials',\n",
    "  'client_id': {CLIENTID},\n",
    "  'client_secret': {CLIENTSECRET}\n",
    "}\n",
    "\n",
    "token_response = requests.post('https://api.petfinder.com/v2/oauth2/token', data=credentials)\n",
    "access_token = token_response.json()['access_token']\n",
    "\n",
    "data_auth = {\n",
    "    'Authorization': f'Bearer {access_token}',\n",
    "}\n",
    "\n",
    "# Example GET request \n",
    "# data_response = requests.get('https://api.petfinder.com/v2/{CATEGORY}/{ACTION}?{parameter_1}={value_1}', headers=data_auth)\n",
    "startTime = datetime.now()\n",
    "\n",
    "# time to check start of access token \n",
    "print(startTime)"
   ]
  },
  {
   "cell_type": "code",
   "execution_count": 82,
   "metadata": {},
   "outputs": [
    {
     "data": {
      "text/plain": [
       "{'animals': [{'id': 44387904,\n",
       "   'organization_id': 'MO499',\n",
       "   'url': 'https://www.petfinder.com/dog/sophie-44387904/mo/raymore/furever-friends-courtesy-page-mo499/?referrer_id=7d8a5ef8-5c74-4b22-b1c8-96ecb72018d7',\n",
       "   'type': 'Dog',\n",
       "   'species': 'Dog',\n",
       "   'breeds': {'primary': 'Pug',\n",
       "    'secondary': None,\n",
       "    'mixed': True,\n",
       "    'unknown': False},\n",
       "   'colors': {'primary': None, 'secondary': None, 'tertiary': None},\n",
       "   'age': 'Young',\n",
       "   'gender': 'Female',\n",
       "   'size': 'Small',\n",
       "   'coat': None,\n",
       "   'attributes': {'spayed_neutered': True,\n",
       "    'house_trained': True,\n",
       "    'declawed': None,\n",
       "    'special_needs': False,\n",
       "    'shots_current': True},\n",
       "   'environment': {'children': None, 'dogs': None, 'cats': None},\n",
       "   'tags': [],\n",
       "   'name': 'Sophie',\n",
       "   'description': '4-4-19 – SOPHIE - New Arrival: Sophie is 3 years old and weighs 35 pounds. She is good with other...',\n",
       "   'photos': [{'small': 'https://dl5zpyw5k3jeb.cloudfront.net/photos/pets/44387904/1/?bust=1554414573&width=100',\n",
       "     'medium': 'https://dl5zpyw5k3jeb.cloudfront.net/photos/pets/44387904/1/?bust=1554414573&width=300',\n",
       "     'large': 'https://dl5zpyw5k3jeb.cloudfront.net/photos/pets/44387904/1/?bust=1554414573&width=600',\n",
       "     'full': 'https://dl5zpyw5k3jeb.cloudfront.net/photos/pets/44387904/1/?bust=1554414573'}],\n",
       "   'status': 'adoptable',\n",
       "   'published_at': '2019-04-04T21:49:57+0000',\n",
       "   'contact': {'email': 'dognme62@gmail.com',\n",
       "    'phone': None,\n",
       "    'address': {'address1': None,\n",
       "     'address2': None,\n",
       "     'city': 'Raymore',\n",
       "     'state': 'MO',\n",
       "     'postcode': '64083',\n",
       "     'country': 'US'}},\n",
       "   '_links': {'self': {'href': '/v2/animals/44387904'},\n",
       "    'type': {'href': '/v2/types/dog'},\n",
       "    'organization': {'href': '/v2/organizations/mo499'}}},\n",
       "  {'id': 44387880,\n",
       "   'organization_id': 'KS202',\n",
       "   'url': 'https://www.petfinder.com/dog/sophie-44387880/ks/madison/furever-friends-ks202/?referrer_id=7d8a5ef8-5c74-4b22-b1c8-96ecb72018d7',\n",
       "   'type': 'Dog',\n",
       "   'species': 'Dog',\n",
       "   'breeds': {'primary': 'Pug',\n",
       "    'secondary': None,\n",
       "    'mixed': True,\n",
       "    'unknown': False},\n",
       "   'colors': {'primary': None, 'secondary': None, 'tertiary': None},\n",
       "   'age': 'Young',\n",
       "   'gender': 'Female',\n",
       "   'size': 'Small',\n",
       "   'coat': None,\n",
       "   'attributes': {'spayed_neutered': True,\n",
       "    'house_trained': True,\n",
       "    'declawed': None,\n",
       "    'special_needs': False,\n",
       "    'shots_current': True},\n",
       "   'environment': {'children': None, 'dogs': None, 'cats': None},\n",
       "   'tags': [],\n",
       "   'name': 'SOPHIE',\n",
       "   'description': '4-4-19 – SOPHIE - New Arrival: Sophie is 3 years old and weighs 35 pounds. She is good with other...',\n",
       "   'photos': [{'small': 'https://dl5zpyw5k3jeb.cloudfront.net/photos/pets/44387880/1/?bust=1554414162&width=100',\n",
       "     'medium': 'https://dl5zpyw5k3jeb.cloudfront.net/photos/pets/44387880/1/?bust=1554414162&width=300',\n",
       "     'large': 'https://dl5zpyw5k3jeb.cloudfront.net/photos/pets/44387880/1/?bust=1554414162&width=600',\n",
       "     'full': 'https://dl5zpyw5k3jeb.cloudfront.net/photos/pets/44387880/1/?bust=1554414162'}],\n",
       "   'status': 'adoptable',\n",
       "   'published_at': '2019-04-04T21:43:09+0000',\n",
       "   'contact': {'email': 'dognme62@gmail.com',\n",
       "    'phone': '620-437-7237',\n",
       "    'address': {'address1': 'Box 321',\n",
       "     'address2': None,\n",
       "     'city': 'Madison',\n",
       "     'state': 'KS',\n",
       "     'postcode': '66860',\n",
       "     'country': 'US'}},\n",
       "   '_links': {'self': {'href': '/v2/animals/44387880'},\n",
       "    'type': {'href': '/v2/types/dog'},\n",
       "    'organization': {'href': '/v2/organizations/ks202'}}}],\n",
       " 'pagination': {'count_per_page': 2,\n",
       "  'total_count': 68873,\n",
       "  'current_page': 1,\n",
       "  'total_pages': 34437,\n",
       "  '_links': {'next': {'href': '/v2/animals?breed=pug&limit=2&page=2&type=dog'}}}}"
      ]
     },
     "execution_count": 82,
     "metadata": {},
     "output_type": "execute_result"
    }
   ],
   "source": [
    "# parameters = {animal_type:\"dog\" , breed: \"pug\", }\n",
    "base_url = \"https://api.petfinder.com/v2/animals?\"\n",
    "add_type = \"&type=\"\n",
    "add_breed = \"&breed=\"\n",
    "add_city = \"&city=\"\n",
    "end_url = \"&page=1&limit=2\"\n",
    "target_url = base_url + add_type + \"dog\" + add_breed + \"pug\" + end_url\n",
    "data_response = requests.get(target_url, headers=data_auth)\n",
    "data_response.json() # this is a dictionary \n",
    "\n",
    "# convert nested json to dataframe "
   ]
  },
  {
   "cell_type": "code",
   "execution_count": null,
   "metadata": {},
   "outputs": [],
   "source": []
  }
 ],
 "metadata": {
  "kernelspec": {
   "display_name": "Python 3",
   "language": "python",
   "name": "python3"
  },
  "language_info": {
   "codemirror_mode": {
    "name": "ipython",
    "version": 3
   },
   "file_extension": ".py",
   "mimetype": "text/x-python",
   "name": "python",
   "nbconvert_exporter": "python",
   "pygments_lexer": "ipython3",
   "version": "3.7.2"
  }
 },
 "nbformat": 4,
 "nbformat_minor": 2
}
