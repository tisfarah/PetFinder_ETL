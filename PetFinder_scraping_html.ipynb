{
 "cells": [
  {
   "cell_type": "code",
   "execution_count": 1,
   "metadata": {
    "collapsed": true
   },
   "outputs": [],
   "source": [
    "# Dependencies\n",
    "import os\n",
    "from bs4 import BeautifulSoup as bs\n",
    "import csv"
   ]
  },
  {
   "cell_type": "code",
   "execution_count": 2,
   "metadata": {
    "collapsed": true
   },
   "outputs": [],
   "source": [
    "# Read HTML from file\n",
    "filepath = os.path.join(r\"WalletHub_PetFriendlyCities.html\")\n",
    "with open(filepath, encoding=\"utf8\") as file:\n",
    "    html = file.read()"
   ]
  },
  {
   "cell_type": "code",
   "execution_count": 3,
   "metadata": {
    "collapsed": true
   },
   "outputs": [],
   "source": [
    "# Create a Beautiful Soup object\n",
    "# soup = bs(html, 'lxml')\n",
    "\n",
    "soup = bs(html)"
   ]
  },
  {
   "cell_type": "code",
   "execution_count": 4,
   "metadata": {},
   "outputs": [
    {
     "name": "stdout",
     "output_type": "stream",
     "text": [
      "Most Pet-Friendly Cities\n"
     ]
    }
   ],
   "source": [
    "# Extract title text\n",
    "title = soup.title.text\n",
    "print(title)"
   ]
  },
  {
   "cell_type": "code",
   "execution_count": 9,
   "metadata": {},
   "outputs": [],
   "source": [
    "# # Print all paragraph texts\n",
    "# paragraphs = soup.find_all('p')\n",
    "# for paragraph in paragraphs:\n",
    "#     print(paragraph.text)\n",
    "\n",
    "# from bs4 import BeautifulSoup\n",
    "# import csv\n",
    "# html = open(r\"WalletHub_PetFriendlyCities.html\", encoding=\"utf8\") as f:\n",
    "# html.read()\n",
    "# soup = BeautifulSoup(html)\n",
    "table = soup.find(\"table\")\n",
    "\n",
    "output_rows = []\n",
    "for table_row in table.findAll('tr'):\n",
    "    columns = table_row.findAll('td')\n",
    "    output_row = []\n",
    "    for column in columns:\n",
    "        output_row.append(column.text)\n",
    "    output_rows.append(output_row)\n",
    "    \n",
    "# with open('best_cities.csv', 'wb') as csvfile:\n",
    "#     writer = csv.writer(csvfile)\n",
    "#     writer.writerows(output_rows)"
   ]
  },
  {
   "cell_type": "code",
   "execution_count": 13,
   "metadata": {},
   "outputs": [],
   "source": [
    "with open('best_cities.csv', 'w') as csvfile:\n",
    "    writer = csv.writer(csvfile)\n",
    "    writer.writerows(output_rows)"
   ]
  },
  {
   "cell_type": "code",
   "execution_count": 6,
   "metadata": {
    "collapsed": true
   },
   "outputs": [],
   "source": [
    "# # Print all ten headlines\n",
    "# tds = soup.find_all('td')\n",
    "# # A blank list to hold the headlines\n",
    "# headlines = []\n",
    "# # Loop over td elements\n",
    "# for td in tds:\n",
    "#     # If td element has an anchor...\n",
    "#     if (td.a):\n",
    "#         # And the anchor has non-blank text...\n",
    "#         if (td.a.text):\n",
    "#             # Append the td to the list\n",
    "#             headlines.append(td)"
   ]
  },
  {
   "cell_type": "code",
   "execution_count": 7,
   "metadata": {},
   "outputs": [
    {
     "name": "stdout",
     "output_type": "stream",
     "text": [
      "Israel elects Netanyahu\n",
      "Crash of TWA Flight 800\n",
      "Russia elects Yeltsin\n",
      "U.S. elects Clinton\n",
      "Hutu-Tutsi conflict in central Africa\n",
      "Peace, elections in Bosnia\n",
      "U.S. base bombed in Saudi Arabia\n",
      "Centennial Olympic Games\n",
      "Advances against AIDS\n",
      "Unabomb suspect Ted Kaczynski arrested\n"
     ]
    }
   ],
   "source": [
    "# # Print only the headlines\n",
    "# for x in range(10):\n",
    "#     print(headlines[x].text)        \n"
   ]
  }
 ],
 "metadata": {
  "kernelspec": {
   "display_name": "Python 3",
   "language": "python",
   "name": "python3"
  },
  "language_info": {
   "codemirror_mode": {
    "name": "ipython",
    "version": 3
   },
   "file_extension": ".py",
   "mimetype": "text/x-python",
   "name": "python",
   "nbconvert_exporter": "python",
   "pygments_lexer": "ipython3",
   "version": "3.7.1"
  },
  "varInspector": {
   "cols": {
    "lenName": 16,
    "lenType": 16,
    "lenVar": 40
   },
   "kernels_config": {
    "python": {
     "delete_cmd_postfix": "",
     "delete_cmd_prefix": "del ",
     "library": "var_list.py",
     "varRefreshCmd": "print(var_dic_list())"
    },
    "r": {
     "delete_cmd_postfix": ") ",
     "delete_cmd_prefix": "rm(",
     "library": "var_list.r",
     "varRefreshCmd": "cat(var_dic_list()) "
    }
   },
   "types_to_exclude": [
    "module",
    "function",
    "builtin_function_or_method",
    "instance",
    "_Feature"
   ],
   "window_display": false
  }
 },
 "nbformat": 4,
 "nbformat_minor": 2
}
